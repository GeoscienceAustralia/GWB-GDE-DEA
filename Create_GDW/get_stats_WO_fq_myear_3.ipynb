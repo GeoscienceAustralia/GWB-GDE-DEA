{
 "cells": [
  {
   "cell_type": "markdown",
   "id": "94393e38-33fd-4a31-ae09-e5a3994670d9",
   "metadata": {},
   "source": [
    "### Extract DEA Water Observation (WO) statistics and attach to shapefile of DEA waterbodies for specific area\n",
    "##### DEA waterbodies dataset can be downloaded from: https://cmi.ga.gov.au/data-products/dea/693/dea-waterbodies-landsat#acces\n",
    "##### This notebook is designed to be run on DEA Sandbox https://app.sandbox.dea.ga.gov.au/"
   ]
  },
  {
   "cell_type": "code",
   "execution_count": 2,
   "id": "e273ca0d-e9e5-4a8a-aa98-203adf7149a1",
   "metadata": {},
   "outputs": [],
   "source": [
    "import datacube\n",
    "from datacube.utils import masking\n",
    "import matplotlib.pyplot as plt\n",
    "\n",
    "import sys\n",
    "sys.path.insert(1, 'Tools/')\n",
    "\n",
    "from datacube.utils.cog import write_cog\n",
    "from dea_tools.datahandling import load_ard\n",
    "from datetime import datetime\n",
    "from pytz import timezone\n",
    "import geopandas as gpd\n",
    "import gc\n",
    "import time\n",
    "import numpy as np\n",
    "import rioxarray as riox"
   ]
  },
  {
   "cell_type": "code",
   "execution_count": 3,
   "id": "fca8ffd9-7c47-4df4-b8ae-99864b1fa728",
   "metadata": {},
   "outputs": [],
   "source": [
    "dc = datacube.Datacube(app='GDEs')"
   ]
  },
  {
   "cell_type": "code",
   "execution_count": 4,
   "id": "9e5c068e-e80c-413d-8161-470c2d36cadc",
   "metadata": {},
   "outputs": [],
   "source": [
    "#set infile to shapefile used as input (eg waterbodies/GDEs) to attach WO statistics to\n",
    "infile = \"WaterBodies.shp\"\n",
    "prefix = \"WB\"\n",
    "\n",
    "#read shape file into dataframe\n",
    "gdf = gpd.read_file(infile)\n",
    "\n",
    "#set coordinate reference system to be coordinate system of shapefile\n",
    "crs = gdf.crs\n",
    "\n",
    "#change projection to albers (to assist with buffering in metres)\n",
    "gdf = gdf.to_crs(\"epsg:3577\")\n",
    "crs = gdf.crs\n",
    "\n",
    "#set bounds to be extent of shapefile\n",
    "bounds = gdf.bounds\n",
    "\n",
    "#to ensure tiff will be outside all polygons, add 30m to bounds (had issue with poly being 2cm outside tiff)\n",
    "minx = bounds.minx.min() -120   \n",
    "maxx = bounds.maxx.max() +120\n",
    "miny = bounds.miny.min() -120  \n",
    "maxy = bounds.maxy.max() +120\n"
   ]
  },
  {
   "cell_type": "code",
   "execution_count": null,
   "id": "115b2eb3-57c7-44ea-9c7e-77cc075cdbbe",
   "metadata": {},
   "outputs": [],
   "source": [
    "#check coordinates are in Albers (m) and coordinate system is Albers (3577)\n",
    "print (minx, miny, maxx, maxy)\n",
    "print (crs)"
   ]
  },
  {
   "cell_type": "code",
   "execution_count": null,
   "id": "35023d34-5b12-4bf3-a893-fa9095e9bb9a",
   "metadata": {
    "tags": []
   },
   "outputs": [],
   "source": [
    "# Extract the Water Observation (WO) collection 3 data\n",
    "ds = dc.load(product='ga_ls_wo_fq_myear_3',\n",
    "                  x=(minx, maxx),\n",
    "                  y=(maxy, miny),\n",
    "                  crs = 'EPSG:3577',\n",
    "                  output_crs='EPSG:3577',\n",
    "                  resolution=(-30, 30)\n",
    "            )\n",
    "ds"
   ]
  },
  {
   "cell_type": "code",
   "execution_count": null,
   "id": "266a7679-62ff-4346-ac8f-a3678de92b0b",
   "metadata": {
    "tags": []
   },
   "outputs": [],
   "source": [
    "# save the raster as geotiff\n",
    "write_cog(geo_im= ds.frequency, fname='data/{}_WO_fq_myear_c3.tif'.format(prefix), overwrite=True)\n"
   ]
  },
  {
   "cell_type": "code",
   "execution_count": null,
   "id": "372b0120-cdcc-482b-b7b0-154fe5eafd49",
   "metadata": {
    "tags": []
   },
   "outputs": [],
   "source": [
    "# open WOfS raster and add to dictionary\n",
    "wo_fq_myear_raster = riox.open_rasterio(\"data/{}_WO_fq_myear_c3.tif\".format(prefix))\n",
    "\n",
    "# create array of floats for writing the wofs filtered summary\n",
    "arrays = {\"wo_fq_myear_mean\": np.nan * np.ones(shape = len(gdf), dtype = float),\n",
    "         \"wo_fq_myear_median\": np.nan * np.ones(shape = len(gdf), dtype = float),\n",
    "         \"wo_fq_myear_min\": np.nan * np.ones(shape = len(gdf), dtype = float),\n",
    "         \"wo_fq_myear_max\": np.nan * np.ones(shape = len(gdf), dtype = float),}           "
   ]
  },
  {
   "cell_type": "code",
   "execution_count": null,
   "id": "fa9521b6-4c13-491b-90bd-39a0cbb29d8d",
   "metadata": {},
   "outputs": [],
   "source": [
    "#check output filename is correct\n",
    "print (\"data/{}_WO_fq_myear_c3.tif\".format(prefix))"
   ]
  },
  {
   "cell_type": "code",
   "execution_count": null,
   "id": "fdc226f1-bbc8-4400-84f9-0e08cdf26d25",
   "metadata": {
    "tags": []
   },
   "outputs": [],
   "source": [
    "#initialise time so can calculate how long process takes\n",
    "start_time = time.time()\n",
    "\n",
    "#datetime.now() gets current time; astimezone is function to convert to timezone; timezone('Australia/Sydney') is the timezone to conver to\n",
    "now = datetime.now().astimezone(timezone('Australia/Sydney'))  #setting time to be Sydney timezone\n",
    "timef = now.strftime(\"%d-%m-%Y %H:%M:%S\")  #formatting the time\n",
    "print (timef)\n",
    "# iterate through the geodataframe and get the geometry\n",
    "for i, (index, row) in enumerate(gdf.iterrows()):\n",
    "    if i%100 == 0:\n",
    "        print(i)\n",
    "    poly = row.geometry\n",
    "    ######################################################################################################\n",
    "    #CHECK ANY POLYS THAT GET PULLED OUT FOR BEING TOO SMALL AND DELETE FROM SHAPEFILE IF NOT NEEDED\n",
    "    #> 800m seems to grab values that are more than half the pixel, so those < 800m should be ok to exclude\n",
    "    #######################################################################################################\n",
    "    if row.geometry.area > 800: \n",
    "        clipped_raster = wo_fq_myear_raster.rio.clip([poly])\n",
    "    # extract array\n",
    "        arr = clipped_raster.values[0]\n",
    "        \n",
    "        # Flag polygons with all No Data, probably due to shadows in Water Observations dataset\n",
    "        if np.all(np.isnan(arr)):\n",
    "            print(\"Polygon with ufi {} contains only NaN data, likely due to known shadows in Water Observations dataset\".format(row[\"ufi\"]))\n",
    "    \n",
    "    # remove null values and save the mean to the array\n",
    "        arrays[\"wo_fq_myear_mean\"][i] = np.nanmean(arr[arr != clipped_raster._FillValue])\n",
    "        arrays[\"wo_fq_myear_median\"][i] = np.nanmedian(arr[arr != clipped_raster._FillValue])\n",
    "        arrays[\"wo_fq_myear_max\"][i] = np.nanmax(arr[arr != clipped_raster._FillValue])\n",
    "        arrays[\"wo_fq_myear_min\"][i] = np.nanmin(arr[arr != clipped_raster._FillValue])\n",
    "    else:\n",
    "        #print UFI of polygons in shapefile that are too small to keep track of small polys in case they are needed, \n",
    "        #in which case reduce geometry.area in if statement above be a value < 800\n",
    "        print(\"Polygon too small to process \\n\",\"UFI\",row.ufi) #\n",
    "        continue\n",
    "print(\"Time elapsed {} seconds\".format(time.time() - start_time))\n"
   ]
  },
  {
   "cell_type": "code",
   "execution_count": null,
   "id": "8f155642-ba2a-4787-8455-457941080a89",
   "metadata": {},
   "outputs": [],
   "source": [
    "# add the arrays to the geodataframe\n",
    "gdf['wo_mean'] = arrays['wo_fq_myear_mean']\n",
    "gdf['wo_p50'] = arrays['wo_fq_myear_median']\n",
    "gdf['wo_min'] = arrays['wo_fq_myear_min']\n",
    "gdf['wo_max'] = arrays['wo_fq_myear_max']\n",
    "#gdf['tcw_p50'] = arrays['TCW_PC_50']\n"
   ]
  },
  {
   "cell_type": "code",
   "execution_count": null,
   "id": "23474654-1e56-48f7-855a-de303c8ad504",
   "metadata": {},
   "outputs": [],
   "source": [
    "# save the geodataframe to a file\n",
    "#to automatically create filename with same name as input file but with 'stat's added, need to strip .shp from name\n",
    "filename = (infile.rstrip(\".shp\"))\n",
    "filename = (filename + '_WO_fq_myear_c3.shp')\n",
    "###not sure if qbove will work as has 'r' below before path in quotes\n",
    "\n",
    "gdf.to_file(filename, index =False)\n",
    "#original code to write file (use if can't get above working)\n",
    "#gdf.to_file(r\"data/UD_Waterbodies_intersect_aquaticGDEs_TCW.shp\", index =False)"
   ]
  }
 ],
 "metadata": {
  "kernelspec": {
   "display_name": "Python 3 (ipykernel)",
   "language": "python",
   "name": "python3"
  },
  "language_info": {
   "codemirror_mode": {
    "name": "ipython",
    "version": 3
   },
   "file_extension": ".py",
   "mimetype": "text/x-python",
   "name": "python",
   "nbconvert_exporter": "python",
   "pygments_lexer": "ipython3",
   "version": "3.8.10"
  }
 },
 "nbformat": 4,
 "nbformat_minor": 5
}
