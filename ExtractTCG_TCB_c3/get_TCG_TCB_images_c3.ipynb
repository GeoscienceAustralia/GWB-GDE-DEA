{
 "cells": [
  {
   "cell_type": "markdown",
   "id": "4c4b0b26-a523-482f-8421-13400f5f912b",
   "metadata": {},
   "source": [
    "#### Extracts images for median tasselled cap greenness (TCG) and tasselled cap wetness (TCW) percentiles over the fulltime period (1987 - present) using the boundary of a shapefile\n"
   ]
  },
  {
   "cell_type": "code",
   "execution_count": null,
   "id": "0c5759a3-7599-4b2a-81ad-287ac590264a",
   "metadata": {},
   "outputs": [],
   "source": [
    "import datacube\n",
    "from datacube.utils import masking\n",
    "import matplotlib.pyplot as plt\n",
    "\n",
    "import sys\n",
    "sys.path.insert(1, 'Tools/')\n",
    "from dea_tools.datahandling import wofs_fuser\n",
    "from dea_tools.plotting import rgb, plot_wo\n",
    "from datacube.utils.cog import write_cog\n",
    "from dea_tools.datahandling import load_ard\n",
    "from dea_tools.bandindices import calculate_indices\n",
    "from dea_tools.dask import create_local_dask_cluster\n",
    "from datetime import datetime\n",
    "from pytz import timezone\n",
    "import geopandas as gpd\n",
    "import gc\n",
    "import time\n",
    "import numpy as np\n",
    "\n",
    "# the below command creates a dask client to enable processing data, \n",
    "# as it is using full time period (30 years of data) and VERY slow without dask\n",
    "client = create_local_dask_cluster(return_client=True)"
   ]
  },
  {
   "cell_type": "markdown",
   "id": "b466f796-0c77-4200-8108-ce54bc5b52bb",
   "metadata": {},
   "source": [
    "### Reading the shapefile to extract imagery"
   ]
  },
  {
   "cell_type": "code",
   "execution_count": null,
   "id": "6e3011d1-6fae-4c55-aae7-a6fa11b7a00c",
   "metadata": {},
   "outputs": [],
   "source": [
    "#name of shapefile to extract data with\n",
    "infile = \"shapefile.shp\"\n",
    "#prefix is used in the output filename\n",
    "prefix = \"EG\"\n",
    "\n",
    "#read file into a geodataframe\n",
    "gdf = gpd.read_file(infile)\n",
    "\n",
    "#set coordinate reference system\n",
    "crs = gdf.crs\n",
    "gdf = gdf.to_crs(\"epsg:3577\")  #Albers equal area\n",
    "\n",
    "bounds = gdf.bounds\n",
    "\n",
    "# boundary of shapefile is made a bit larger to ensure the image captures the whole area\n",
    "minx = bounds.minx.min() - 50000\n",
    "maxx = bounds.maxx.max() + 50000\n",
    "miny = bounds.miny.min() - 50000\n",
    "maxy = bounds.maxy.max() + 50000\n",
    "\n",
    "#print min/max x,y to ensure area/coordinaates are as expected (Albers)\n",
    "print(minx, maxx, miny, maxy)"
   ]
  },
  {
   "cell_type": "code",
   "execution_count": null,
   "id": "fca8ffd9-7c47-4df4-b8ae-99864b1fa728",
   "metadata": {},
   "outputs": [],
   "source": [
    "dc = datacube.Datacube(app='GDEs')"
   ]
  },
  {
   "cell_type": "code",
   "execution_count": null,
   "id": "9e5c068e-e80c-413d-8161-470c2d36cadc",
   "metadata": {},
   "outputs": [],
   "source": [
    "crs = gdf.crs\n",
    "gdf = gdf.to_crs(\"epsg:4283\")  #GDA94 geographic "
   ]
  },
  {
   "cell_type": "code",
   "execution_count": null,
   "id": "1b802607-230e-4b57-bf4d-750b23b19850",
   "metadata": {
    "tags": []
   },
   "outputs": [],
   "source": [
    "#set start_time to enable monitoring the amount of time taken to run\n",
    "start_time = time.time()\n",
    "\n",
    "#datetime.now() gets current time; astimezone is function to convert to timezone; timezone('Australia/Sydney') is the timezone to conver to\n",
    "now = datetime.now().astimezone(timezone('Australia/Sydney'))  #setting time to be Sydney timezone\n",
    "timef = now.strftime(\"%d-%m-%Y %H:%M:%S\")  #formatting the time\n",
    "print (timef)\n",
    "\n",
    "#extract tasselled cap greenness and wetness percentiles from Collection 3 dataset for full time period\n",
    "ds = dc.load(product='ga_ls_tc_pc_cyear_3',\n",
    "                   x=(minx, maxx),\n",
    "                   y=(miny, maxy),\n",
    "                   time=('1987', '2022'),\n",
    "                   crs = 'EPSG:3577', #Albers\n",
    "                   dask_chunks={\"time\": 1, \"x\": 2048, \"y\": 2048},\n",
    "                  measurements=['green_pc_10', 'green_pc_50', 'green_pc_90',\n",
    "                                'wet_pc_10','wet_pc_50','wet_pc_90'],\n",
    "                  output_crs='EPSG:3577', #can't change output crs to gcs as need res to be 30,30\n",
    "                  resolution=(-30, 30),  \n",
    "                  group_by='solar_day')\n",    #if get error opening source dataset, add code: "skip_broken_datasets=True" before end bracket
    "\n",
    "#calculate median\n",
    "median_data = ds.median(dim = 'time',keep_attrs=True) \n",
    "\n",
    "median_data.load()  #this command used to load data from dask\n",
    "\n",
    "print(\"Time elapsed {} seconds\".format(time.time() - start_time))"
   ]
  },
  {
   "cell_type": "code",
   "execution_count": null,
   "id": "0bc4e335-f356-4d38-bfdc-ea322b2cba78",
   "metadata": {},
   "outputs": [],
   "source": [
    "#to close the dask client after use:\n",
    "client.close()"
   ]
  },
  {
   "cell_type": "code",
   "execution_count": null,
   "id": "dcbc06d8-553b-4980-9a32-d0d8cd4e9809",
   "metadata": {
    "tags": []
   },
   "outputs": [],
   "source": [
    "#describe the dataset to ensure all variables required are included, eg wet_pc_10\n",
    "ds"
   ]
  },
  {
   "cell_type": "markdown",
   "id": "116dfb66-5a64-4ee3-ba40-6b4c50725971",
   "metadata": {},
   "source": [
    "### Writing median variables of TCI into dataset"
   ]
  },
  {
   "cell_type": "code",
   "execution_count": null,
   "id": "a2cacee5-f474-4849-a5cb-88c916d0dc4a",
   "metadata": {},
   "outputs": [],
   "source": [
    "#saving as int16 to reduce filesize\n",
    "median_data[\"green_pc_10_int\"] = np.around(median_data.green_pc_10).astype(np.int16)\n",
    "median_data[\"green_pc_50_int\"] = np.around(median_data.green_pc_50).astype(np.int16)\n",
    "median_data[\"green_pc_90_int\"] = np.around(median_data.green_pc_90).astype(np.int16)\n",
    "median_data[\"wet_pc_10_int\"] = np.around(median_data.wet_pc_10).astype(np.int16)\n",
    "median_data[\"wet_pc_50_int\"] = np.around(median_data.wet_pc_50).astype(np.int16)\n",
    "median_data[\"wet_pc_90_int\"] = np.around(median_data.wet_pc_90).astype(np.int16)\n"
   ]
  },
  {
   "cell_type": "markdown",
   "id": "40a8a115-e5b5-42a3-8cb3-293c0f9eae48",
   "metadata": {},
   "source": [
    "### Saving stats of TCI as tifs"
   ]
  },
  {
   "cell_type": "code",
   "execution_count": null,
   "id": "24676a09-e8ab-4144-8499-20285c624182",
   "metadata": {},
   "outputs": [],
   "source": [
    "#Saving median variables as tiff files\n",
    "for item in ['green_pc_10_int', 'green_pc_50_int', 'green_pc_90_int',\n",
    "              'wet_pc_10_int','wet_pc_50_int','wet_pc_90_int']:\n",
    "    da = median_data[item]\n",
    "    stat = \"median\"\n",
    "    write_cog(geo_im=da,\n",
    "          fname='{}_{}_1987_2022_c3_{}.tif'.format(prefix, item,stat),\n",
    "          overwrite=True)\n",
    "    \n",
    "       \n",
    "    "
   ]
  },
  {
   "cell_type": "code",
   "execution_count": null,
   "id": "9426edc6-25e5-4173-8046-c5e246f6c0d7",
   "metadata": {},
   "outputs": [],
   "source": []
  }
 ],
 "metadata": {
  "kernelspec": {
   "display_name": "Python 3 (ipykernel)",
   "language": "python",
   "name": "python3"
  },
  "language_info": {
   "codemirror_mode": {
    "name": "ipython",
    "version": 3
   },
   "file_extension": ".py",
   "mimetype": "text/x-python",
   "name": "python",
   "nbconvert_exporter": "python",
   "pygments_lexer": "ipython3",
   "version": "3.8.10"
  }
 },
 "nbformat": 4,
 "nbformat_minor": 5
}
